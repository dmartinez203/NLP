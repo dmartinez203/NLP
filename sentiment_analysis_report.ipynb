{
 "cells": [
  {
   "cell_type": "markdown",
   "id": "cd1cc579",
   "metadata": {},
   "source": [
    "# Sentiment Analysis Report\n",
    "\n",
    "**Problem statement:** Determine whether a given review sentence conveys positive or negative sentiment using a bag-of-words TF-IDF representation and a Logistic Regression classifier. This notebook uses `amazon_cells_labelled.csv` as the dataset.\n",
    "\n",
    "This document contains: problem statement, algorithm description, full code (with comments), visualizations, model training/evaluation, sample predictions, analysis of findings, and references. Run cells top-to-bottom to reproduce the results."
   ]
  },
  {
   "cell_type": "markdown",
   "id": "a63ee94f",
   "metadata": {},
   "source": [
    "## 1) Setup: imports and environment\n",
    "\n",
    "We import core Python data science packages, BeautifulSoup for optional HTML cleaning, and NLTK resources for stop words/tokenization. If a package is missing, install it in your environment (see the README section at the end)."
   ]
  },
  {
   "cell_type": "code",
   "execution_count": 29,
   "id": "3f48ec6b",
   "metadata": {},
   "outputs": [
    {
     "name": "stdout",
     "output_type": "stream",
     "text": [
      "imports done\n"
     ]
    }
   ],
   "source": [
    "# Imports\n",
    "import os\n",
    "from pathlib import Path\n",
    "import re\n",
    "import string\n",
    "import json\n",
    "import numpy as np\n",
    "import pandas as pd\n",
    "import matplotlib.pyplot as plt\n",
    "import seaborn as sns\n",
    "from bs4 import BeautifulSoup\n",
    "import nltk\n",
    "from nltk.corpus import stopwords\n",
    "from nltk.stem import WordNetLemmatizer\n",
    "from sklearn.feature_extraction.text import TfidfVectorizer\n",
    "from sklearn.model_selection import train_test_split, GridSearchCV, cross_val_score\n",
    "from sklearn.linear_model import LogisticRegression\n",
    "from sklearn.metrics import accuracy_score, classification_report, confusion_matrix, roc_auc_score, precision_recall_fscore_support\n",
    "import joblib\n",
    "\n",
    "# Ensure NLTK data available (downloads are quiet if already present)\n",
    "nltk.download('stopwords', quiet=True)\n",
    "nltk.download('punkt', quiet=True)\n",
    "nltk.download('wordnet', quiet=True)\n",
    "nltk.download('omw-1.4', quiet=True)\n",
    "\n",
    "sns.set(style=\"whitegrid\")\n",
    "RANDOM_STATE = 42\n",
    "print('imports done')"
   ]
  },
  {
   "cell_type": "markdown",
   "id": "7cb30789",
   "metadata": {},
   "source": [
    "## 2) Load dataset\n",
    "\n",
    "The `amazon_cells_labelled.csv` file may contain commas inside quoted text which can produce additional columns when read naively. We use a robust strategy: read with `pandas.read_csv(..., engine='python', on_bad_lines='skip')` then detect which column most likely contains the label (0 or 1). We then reconstruct the textual field by joining the remaining columns."
   ]
  },
  {
   "cell_type": "code",
   "execution_count": 30,
   "id": "0cf53338",
   "metadata": {},
   "outputs": [
    {
     "name": "stdout",
     "output_type": "stream",
     "text": [
      "raw shape: (1000, 6)\n",
      "detected label column: 1\n",
      "parsed dataframe shape: (771, 2)\n"
     ]
    },
    {
     "data": {
      "text/html": [
       "<div>\n",
       "<style scoped>\n",
       "    .dataframe tbody tr th:only-of-type {\n",
       "        vertical-align: middle;\n",
       "    }\n",
       "\n",
       "    .dataframe tbody tr th {\n",
       "        vertical-align: top;\n",
       "    }\n",
       "\n",
       "    .dataframe thead th {\n",
       "        text-align: right;\n",
       "    }\n",
       "</style>\n",
       "<table border=\"1\" class=\"dataframe\">\n",
       "  <thead>\n",
       "    <tr style=\"text-align: right;\">\n",
       "      <th></th>\n",
       "      <th>text</th>\n",
       "      <th>label</th>\n",
       "    </tr>\n",
       "  </thead>\n",
       "  <tbody>\n",
       "    <tr>\n",
       "      <th>0</th>\n",
       "      <td>So there is no way for me to plug it in here i...</td>\n",
       "      <td>0</td>\n",
       "    </tr>\n",
       "    <tr>\n",
       "      <th>1</th>\n",
       "      <td>Great for the jawbone.</td>\n",
       "      <td>1</td>\n",
       "    </tr>\n",
       "    <tr>\n",
       "      <th>2</th>\n",
       "      <td>Tied to charger for conversations lasting more...</td>\n",
       "      <td>0</td>\n",
       "    </tr>\n",
       "    <tr>\n",
       "      <th>3</th>\n",
       "      <td>The mic is great.</td>\n",
       "      <td>1</td>\n",
       "    </tr>\n",
       "    <tr>\n",
       "      <th>4</th>\n",
       "      <td>I have to jiggle the plug to get it to line up...</td>\n",
       "      <td>0</td>\n",
       "    </tr>\n",
       "  </tbody>\n",
       "</table>\n",
       "</div>"
      ],
      "text/plain": [
       "                                                text  label\n",
       "0  So there is no way for me to plug it in here i...      0\n",
       "1                             Great for the jawbone.      1\n",
       "2  Tied to charger for conversations lasting more...      0\n",
       "3                                  The mic is great.      1\n",
       "4  I have to jiggle the plug to get it to line up...      0"
      ]
     },
     "metadata": {},
     "output_type": "display_data"
    }
   ],
   "source": [
    "# Path to dataset (assumes the CSV is in the notebook working directory)\n",
    "DATA_PATH = Path('amazon_cells_labelled.csv')\n",
    "assert DATA_PATH.exists(), f'File not found: {DATA_PATH}'\n",
    "\n",
    "# Read with pandas (python engine handles complex quoting better)\n",
    "raw = pd.read_csv(DATA_PATH, header=None, engine='python', on_bad_lines='skip', encoding='utf-8')\n",
    "print('raw shape:', raw.shape)\n",
    "\n",
    "# Heuristic: find the column that looks most like labels (values 0 or 1)\n",
    "def detect_label_column(df):\n",
    "    scores = {}\n",
    "    for col in df.columns:\n",
    "        colvals = df[col].dropna().astype(str).str.strip()\n",
    "        # count how many entries are exactly '0' or '1'\n",
    "        matches = colvals.isin(['0','1']).sum()\n",
    "        scores[col] = matches\n",
    "    # pick column with max matches (must have >0 matches)\n",
    "    best = max(scores, key=scores.get)\n",
    "    return best if scores[best] > 0 else None\n",
    "\n",
    "lbl_col = detect_label_column(raw)\n",
    "print('detected label column:', lbl_col)\n",
    "\n",
    "# Reconstruct text by joining all columns except the label column (if found).\n",
    "texts = []\n",
    "labels = []\n",
    "for _, row in raw.iterrows():\n",
    "    if lbl_col is not None:\n",
    "        lbl_val = row[lbl_col]\n",
    "        # attempt to coerce label to int (handle stray spaces/characters)\n",
    "        try:\n",
    "            lbl = int(str(lbl_val).strip())\n",
    "        except Exception:\n",
    "            # skip rows without a parsable label\n",
    "            continue\n",
    "        # text is all other columns joined with comma (preserve original commas inside quotes were handled by pandas)\n",
    "        text_cols = [str(row[c]) for c in raw.columns if c != lbl_col]\n",
    "        text = ','.join([t for t in text_cols if str(t) != 'nan'])\n",
    "    else:\n",
    "        # fallback: assume first column is text and second is label\n",
    "        try:\n",
    "            lbl = int(str(row[1]).strip())\n",
    "            text = str(row[0])\n",
    "        except Exception:\n",
    "            continue\n",
    "    texts.append(text)\n",
    "    labels.append(lbl)\n",
    "\n",
    "df = pd.DataFrame({'text': texts, 'label': labels})\n",
    "print('parsed dataframe shape:', df.shape)\n",
    "display(df.head())"
   ]
  },
  {
   "cell_type": "markdown",
   "id": "576707f1",
   "metadata": {},
   "source": [
    "## 3) Descriptive statistics and handling missing values\n",
    "\n",
    "We inspect for missing or empty texts and decide on simple handling: drop rows with empty text after trimming. We then count label distribution (negative=0, positive=1). If a neutral class were present, it would appear here as a third label; this dataset is binary."
   ]
  },
  {
   "cell_type": "code",
   "execution_count": 31,
   "id": "3f087cb1",
   "metadata": {},
   "outputs": [
    {
     "name": "stdout",
     "output_type": "stream",
     "text": [
      "total samples: 771\n",
      "empty text rows (before): 0\n",
      "samples after dropping empty text: 771\n",
      "label counts:\n",
      "label\n",
      "1    387\n",
      "0    384\n",
      "Name: count, dtype: int64\n"
     ]
    },
    {
     "data": {
      "image/png": "[encoded data removed]",
      "text/plain": [
       "<Figure size 600x400 with 1 Axes>"
      ]
     },
     "metadata": {},
     "output_type": "display_data"
    }
   ],
   "source": [
    "# Basic stats\n",
    "print('total samples:', len(df))\n",
    "# detect missing/empty texts\n",
    "df['text_stripped'] = df['text'].astype(str).str.strip()\n",
    "empty_before = (df['text_stripped'] == '').sum()\n",
    "print('empty text rows (before):', empty_before)\n",
    "# drop empty texts\n",
    "df = df[df['text_stripped'] != ''].copy()\n",
    "df.drop(columns=['text_stripped'], inplace=True)\n",
    "print('samples after dropping empty text:', len(df))\n",
    "# label counts\n",
    "print('label counts:')\n",
    "print(df['label'].value_counts())\n",
    "\n",
    "# Plot label distribution\n",
    "import matplotlib.pyplot as plt\n",
    "import seaborn as sns\n",
    "plt.figure(figsize=(6,4))\n",
    "ax = sns.countplot(x=df['label'])\n",
    "ax.set_title('Label distribution (0=negative, 1=positive)')\n",
    "ax.set_xlabel('label')\n",
    "ax.set_ylabel('count')\n",
    "plt.tight_layout()\n",
    "plt.show()\n",
    "\n",
    "# If you want to save the figure uncomment the next line:\n",
    "# plt.savefig('label_distribution.png', dpi=150)"
   ]
  },
  {
   "cell_type": "markdown",
   "id": "e0989605",
   "metadata": {},
   "source": [
    "## 4) Preprocessing pipeline\n",
    "\n",
    "Steps: remove HTML, lower-case, remove punctuation, remove stop words, and simple tokenization. We keep words longer than 1 character. This produces a `processed` text column ready for TF-IDF."
   ]
  },
  {
   "cell_type": "code",
   "execution_count": 32,
   "id": "3297271e",
   "metadata": {},
   "outputs": [
    {
     "name": "stdout",
     "output_type": "stream",
     "text": [
      "sample processed text:\n"
     ]
    },
    {
     "name": "stderr",
     "output_type": "stream",
     "text": [
      "/var/folders/nw/k5033nqj52gg3qc9z9fzhtjm0000gn/T/ipykernel_13480/2676387114.py:11: MarkupResemblesLocatorWarning: The input looks more like a filename than markup. You may want to open this file and pass the filehandle into Beautiful Soup.\n",
      "  s = BeautifulSoup(s, 'html.parser').get_text(separator=' ')\n"
     ]
    },
    {
     "data": {
      "text/html": [
       "<div>\n",
       "<style scoped>\n",
       "    .dataframe tbody tr th:only-of-type {\n",
       "        vertical-align: middle;\n",
       "    }\n",
       "\n",
       "    .dataframe tbody tr th {\n",
       "        vertical-align: top;\n",
       "    }\n",
       "\n",
       "    .dataframe thead th {\n",
       "        text-align: right;\n",
       "    }\n",
       "</style>\n",
       "<table border=\"1\" class=\"dataframe\">\n",
       "  <thead>\n",
       "    <tr style=\"text-align: right;\">\n",
       "      <th></th>\n",
       "      <th>text</th>\n",
       "      <th>processed</th>\n",
       "    </tr>\n",
       "  </thead>\n",
       "  <tbody>\n",
       "    <tr>\n",
       "      <th>0</th>\n",
       "      <td>So there is no way for me to plug it in here i...</td>\n",
       "      <td>way plug u unless go converter</td>\n",
       "    </tr>\n",
       "    <tr>\n",
       "      <th>1</th>\n",
       "      <td>Great for the jawbone.</td>\n",
       "      <td>great jawbone</td>\n",
       "    </tr>\n",
       "    <tr>\n",
       "      <th>2</th>\n",
       "      <td>Tied to charger for conversations lasting more...</td>\n",
       "      <td>tied charger conversation lasting 45 minutesma...</td>\n",
       "    </tr>\n",
       "    <tr>\n",
       "      <th>3</th>\n",
       "      <td>The mic is great.</td>\n",
       "      <td>mic great</td>\n",
       "    </tr>\n",
       "    <tr>\n",
       "      <th>4</th>\n",
       "      <td>I have to jiggle the plug to get it to line up...</td>\n",
       "      <td>jiggle plug get line right get decent volume</td>\n",
       "    </tr>\n",
       "  </tbody>\n",
       "</table>\n",
       "</div>"
      ],
      "text/plain": [
       "                                                text  \\\n",
       "0  So there is no way for me to plug it in here i...   \n",
       "1                             Great for the jawbone.   \n",
       "2  Tied to charger for conversations lasting more...   \n",
       "3                                  The mic is great.   \n",
       "4  I have to jiggle the plug to get it to line up...   \n",
       "\n",
       "                                           processed  \n",
       "0                     way plug u unless go converter  \n",
       "1                                      great jawbone  \n",
       "2  tied charger conversation lasting 45 minutesma...  \n",
       "3                                          mic great  \n",
       "4       jiggle plug get line right get decent volume  "
      ]
     },
     "metadata": {},
     "output_type": "display_data"
    }
   ],
   "source": [
    "# Preprocessing utilities\n",
    "stop = set(stopwords.words('english'))\n",
    "lemmatizer = WordNetLemmatizer()\n",
    "punct_table = str.maketrans('', '', string.punctuation)\n",
    "\n",
    "def clean_text(raw):\n",
    "    if raw is None:\n",
    "        return ''\n",
    "    s = str(raw)\n",
    "    # remove HTML\n",
    "    s = BeautifulSoup(s, 'html.parser').get_text(separator=' ')\n",
    "    # remove URLs (improved regex)\n",
    "    s = re.sub(r'https?://+|www+', ' ', s)\n",
    "    # remove punctuation\n",
    "    s = s.translate(punct_table)\n",
    "    s = s.lower()\n",
    "    # tokenize on whitespace, remove stopwords, and lemmatize\n",
    "    tokens = []\n",
    "    for t in s.split():\n",
    "        if t in stop or len(t) <= 1:\n",
    "            continue\n",
    "        # simple alpha filter\n",
    "        t = re.sub(r'[^a-z0-9]', '', t)\n",
    "        if t == '':\n",
    "            continue\n",
    "        tokens.append(lemmatizer.lemmatize(t))\n",
    "    return ' '.join(tokens)\n",
    "\n",
    "# Apply preprocessing\n",
    "df['processed'] = df['text'].apply(clean_text)\n",
    "print('sample processed text:')\n",
    "display(df[['text','processed']].head())"
   ]
  },
  {
   "cell_type": "markdown",
   "id": "e7b61ea9",
   "metadata": {},
   "source": [
    "## 5) Feature extraction: TF-IDF\n",
    "\n",
    "We construct a TF-IDF vectorizer with unigrams and bigrams and a reasonable `max_features` cap to control dimensionality. This maps each processed text to a dense-sparse TF-IDF vector used by the classifier."
   ]
  },
  {
   "cell_type": "code",
   "execution_count": 33,
   "id": "64cf5b83",
   "metadata": {},
   "outputs": [
    {
     "name": "stdout",
     "output_type": "stream",
     "text": [
      "X shape: (771, 598)\n",
      "number of features: 598\n",
      "example features (first 20): ['10' '12' '50' '510' 'ability' 'able' 'absolutely' 'actually' 'adorable'\n",
      " 'advertised' 'advise' 'ago' 'allows' 'also' 'always' 'amazed' 'amazon'\n",
      " 'another' 'anyone' 'anything']\n"
     ]
    }
   ],
   "source": [
    "# TF-IDF with tuned heuristics: remove extremely rare terms (min_df) and very common terms (max_df)\n",
    "tfidf = TfidfVectorizer(ngram_range=(1,2), max_features=10000, min_df=2, max_df=0.9, norm='l2', sublinear_tf=True)\n",
    "X = tfidf.fit_transform(df['processed'])\n",
    "y = df['label'].astype(int).values\n",
    "print('X shape:', X.shape)\n",
    "# a few top features (example)\n",
    "feature_names = tfidf.get_feature_names_out()\n",
    "print('number of features:', len(feature_names))\n",
    "print('example features (first 20):', feature_names[:20])"
   ]
  },
  {
   "cell_type": "markdown",
   "id": "e31989cf",
   "metadata": {},
   "source": [
    "## 6) Train/test split and model training\n",
    "\n",
    "We use an 80/20 stratified split to maintain class balance. Then train a Logistic Regression classifier. Logistic regression is fast and interpretable for binary classification tasks."
   ]
  },
  {
   "cell_type": "code",
   "execution_count": 34,
   "id": "615a2c75",
   "metadata": {},
   "outputs": [
    {
     "name": "stdout",
     "output_type": "stream",
     "text": [
      "Fitting 3 folds for each of 48 candidates, totalling 144 fits\n",
      "GridSearch best params: {'clf__C': 1.0, 'clf__class_weight': None, 'tfidf__max_df': 0.85, 'tfidf__min_df': 1, 'tfidf__ngram_range': (1, 2)}\n",
      "Accuracy: 0.8193548387096774\n",
      "              precision    recall  f1-score   support\n",
      "\n",
      "           0       0.82      0.82      0.82        77\n",
      "           1       0.82      0.82      0.82        78\n",
      "\n",
      "    accuracy                           0.82       155\n",
      "   macro avg       0.82      0.82      0.82       155\n",
      "weighted avg       0.82      0.82      0.82       155\n",
      "\n",
      "ROC AUC: 0.8957708957708959\n",
      "Saved best pipeline to best_pipeline.joblib\n"
     ]
    }
   ],
   "source": [
    "# Optional: pipeline + GridSearchCV to jointly tune TF-IDF and classifier parameters\n",
    "from sklearn.pipeline import Pipeline\n",
    "from sklearn.model_selection import GridSearchCV\n",
    "from sklearn.metrics import precision_recall_fscore_support, roc_auc_score\n",
    "\n",
    "pipe = Pipeline([\n",
    "    ('tfidf', TfidfVectorizer()),\n",
    "    ('clf', LogisticRegression(max_iter=2000, solver='liblinear', random_state=RANDOM_STATE))\n",
    "])\n",
    "param_grid = {\n",
    "    'tfidf__ngram_range': [(1,1),(1,2)],\n",
    "    'tfidf__min_df': [1,2],\n",
    "    'tfidf__max_df': [0.85,0.9],\n",
    "    'clf__C': [0.01,0.1,1.0],\n",
    "    'clf__class_weight': [None, 'balanced']\n",
    "}\n",
    "# Use a small cv for speed; increase for final runs\n",
    "gs = GridSearchCV(pipe, param_grid, cv=3, scoring='f1', n_jobs=-1, verbose=1)\n",
    "gs.fit(df['processed'], df['label'])\n",
    "print('GridSearch best params:', gs.best_params_)\n",
    "best = gs.best_estimator_\n",
    "# Evaluate with a proper train/test split (re-run to be safe)\n",
    "X = df['processed']\n",
    "y = df['label'].astype(int).values\n",
    "X_train, X_test, y_train, y_test = train_test_split(X, y, test_size=0.2, random_state=RANDOM_STATE, stratify=y)\n",
    "best.fit(X_train, y_train)\n",
    "y_pred = best.predict(X_test)\n",
    "print('Accuracy:', accuracy_score(y_test, y_pred))\n",
    "print(classification_report(y_test, y_pred))\n",
    "if hasattr(best, 'predict_proba') and len(np.unique(y_test))==2:\n",
    "    print('ROC AUC:', roc_auc_score(y_test, best.predict_proba(X_test)[:,1]))\n",
    "\n",
    "# Save best pipeline\n",
    "joblib.dump(best, 'best_pipeline.joblib')\n",
    "print('Saved best pipeline to best_pipeline.joblib')"
   ]
  },
  {
   "cell_type": "code",
   "execution_count": 35,
   "id": "9ec240a5",
   "metadata": {},
   "outputs": [
    {
     "name": "stdout",
     "output_type": "stream",
     "text": [
      "Train shape: (616, 598) Test shape: (155, 598)\n",
      "Fitting 5 folds for each of 8 candidates, totalling 40 fits\n",
      "Best params: {'C': 1.0, 'class_weight': 'balanced'}\n",
      "Cross-val f1 on train (5-fold): 0.7320743998486946 [0.76033058 0.73873874 0.72222222 0.67241379 0.76666667]\n",
      "Accuracy on test set: 0.8516\n",
      "Classification report:\n",
      "              precision    recall  f1-score   support\n",
      "\n",
      "           0       0.84      0.87      0.85        77\n",
      "           1       0.87      0.83      0.85        78\n",
      "\n",
      "    accuracy                           0.85       155\n",
      "   macro avg       0.85      0.85      0.85       155\n",
      "weighted avg       0.85      0.85      0.85       155\n",
      "\n",
      "ROC AUC: 0.9089\n",
      "Saved classifier to logreg_model.joblib\n"
     ]
    }
   ],
   "source": [
    "# Split and train with safe handling of raw/text inputs\n",
    "# If X is a 1-D Series of strings (processed text), vectorize it first so the classifier receives numeric input.\n",
    "import scipy.sparse as sp\n",
    "\n",
    "if isinstance(X, pd.Series) or (hasattr(X, 'ndim') and getattr(X, 'ndim', 1) == 1 and X.dtype == object):\n",
    "    # Vectorize the processed text into TF-IDF (same heuristics as earlier)\n",
    "    tfidf_local = TfidfVectorizer(ngram_range=(1,2), max_features=10000, min_df=2, max_df=0.9, norm='l2', sublinear_tf=True)\n",
    "    X_vec = tfidf_local.fit_transform(X)\n",
    "else:\n",
    "    X_vec = X\n",
    "\n",
    "# Split (80/20 stratified when possible)\n",
    "if len(np.unique(y)) > 1 and min(np.bincount(y)) >= 2:\n",
    "    X_train, X_test, y_train, y_test = train_test_split(X_vec, y, test_size=0.2, random_state=RANDOM_STATE, stratify=y)\n",
    "else:\n",
    "    # fallback when a class is too small for stratified split\n",
    "    X_train, X_test, y_train, y_test = train_test_split(X_vec, y, test_size=0.2, random_state=RANDOM_STATE)\n",
    "\n",
    "print('Train shape:', X_train.shape, 'Test shape:', X_test.shape)\n",
    "\n",
    "# Use GridSearchCV to tune regularization C and optionally class weight (helpful for imbalanced data)\n",
    "param_grid = {\n",
    "    'C': [0.01, 0.1, 1.0, 10.0],\n",
    "    'class_weight': [None, 'balanced'],\n",
    "}\n",
    "base = LogisticRegression(max_iter=2000, solver='liblinear', random_state=RANDOM_STATE)\n",
    "grid = GridSearchCV(base, param_grid, cv=5, scoring='f1', n_jobs=-1, verbose=1)\n",
    "grid.fit(X_train, y_train)\n",
    "print('Best params:', grid.best_params_)\n",
    "clf = grid.best_estimator_\n",
    "# cross-val on train set (report mean f1)\n",
    "cv_scores = cross_val_score(clf, X_train, y_train, cv=5, scoring='f1')\n",
    "print('Cross-val f1 on train (5-fold):', cv_scores.mean(), cv_scores)\n",
    "\n",
    "# Evaluate on test\n",
    "y_pred = clf.predict(X_test)\n",
    "y_prob = clf.predict_proba(X_test)[:,1] if hasattr(clf, 'predict_proba') else None\n",
    "acc = accuracy_score(y_test, y_pred)\n",
    "print(f'Accuracy on test set: {acc:.4f}')\n",
    "print('Classification report:')\n",
    "print(classification_report(y_test, y_pred))\n",
    "if y_prob is not None and len(np.unique(y_test)) == 2:\n",
    "    try:\n",
    "        auc = roc_auc_score(y_test, y_prob)\n",
    "        print(f'ROC AUC: {auc:.4f}')\n",
    "    except Exception as e:\n",
    "        print('Could not compute ROC AUC:', e)\n",
    "\n",
    "# If we vectorized locally, expose the fitted TF-IDF as `tfidf_local` for later cells\n",
    "try:\n",
    "    tfidf = tfidf_local\n",
    "except NameError:\n",
    "    pass\n",
    "\n",
    "# Save final classifier (and vectorizer if created here)\n",
    "import joblib\n",
    "joblib.dump(clf, 'logreg_model.joblib')\n",
    "try:\n",
    "    joblib.dump(tfidf, 'tfidf_vectorizer.joblib')\n",
    "except Exception:\n",
    "    pass\n",
    "print('Saved classifier to logreg_model.joblib')"
   ]
  },
  {
   "cell_type": "markdown",
   "id": "d0546d0b",
   "metadata": {},
   "source": [
    "## 7) Confusion matrix and visualization\n",
    "\n",
    "We plot the confusion matrix to inspect types of errors (false positives vs false negatives)."
   ]
  },
  {
   "cell_type": "code",
   "execution_count": 36,
   "id": "655dcd6a",
   "metadata": {},
   "outputs": [
    {
     "data": {
      "image/png": "[encoded data removed]",
      "text/plain": [
       "<Figure size 600x500 with 2 Axes>"
      ]
     },
     "metadata": {},
     "output_type": "display_data"
    },
    {
     "name": "stdout",
     "output_type": "stream",
     "text": [
      "Saved model to logreg_model.joblib and vectorizer to tfidf_vectorizer.joblib\n"
     ]
    }
   ],
   "source": [
    "cm = confusion_matrix(y_test, y_pred)\n",
    "plt.figure(figsize=(6,5))\n",
    "ax = sns.heatmap(cm, annot=True, fmt='d', cmap='Blues')\n",
    "ax.set_xlabel('Predicted')\n",
    "ax.set_ylabel('Actual')\n",
    "ax.set_title('Confusion Matrix')\n",
    "plt.tight_layout()\n",
    "plt.show()\n",
    "\n",
    "# Save artifacts for later reuse\n",
    "joblib.dump(clf, 'logreg_model.joblib')\n",
    "joblib.dump(tfidf, 'tfidf_vectorizer.joblib')\n",
    "print('Saved model to logreg_model.joblib and vectorizer to tfidf_vectorizer.joblib')"
   ]
  },
  {
   "cell_type": "markdown",
   "id": "add48b10",
   "metadata": {},
   "source": [
    "## 8) Example predictions on user-provided sentences\n",
    "\n",
    "We provide a helper function that applies the same preprocessing and returns predicted label and probability."
   ]
  },
  {
   "cell_type": "code",
   "execution_count": 37,
   "id": "384126fa",
   "metadata": {},
   "outputs": [
    {
     "name": "stdout",
     "output_type": "stream",
     "text": [
      "{'text': 'I love this product, it works great and the sound is amazing', 'pred': 1, 'prob': 0.913210871088178}\n",
      "{'text': 'This was terrible, the battery died within a day', 'pred': 0, 'prob': 0.7665527360908527}\n",
      "{'text': 'Decent value for the price', 'pred': 1, 'prob': 0.6559135066463293}\n",
      "{'text': 'Not what I expected, very disappointed', 'pred': 0, 'prob': 0.8140491662258879}\n"
     ]
    }
   ],
   "source": [
    "def predict_sentiment(texts):\n",
    "    if isinstance(texts, str):\n",
    "        texts = [texts]\n",
    "    processed = [clean_text(t) for t in texts]\n",
    "    Xq = tfidf.transform(processed)\n",
    "    preds = clf.predict(Xq)\n",
    "    probs = clf.predict_proba(Xq) if hasattr(clf, 'predict_proba') else None\n",
    "    results = []\n",
    "    for i, t in enumerate(texts):\n",
    "        r = {'text': t, 'pred': int(preds[i])}\n",
    "        if probs is not None:\n",
    "            r['prob'] = probs[i].max()\n",
    "        results.append(r)\n",
    "    return results\n",
    "\n",
    "# Example queries to inspect the model's behavior\n",
    "examples = [\n",
    "    'I love this product, it works great and the sound is amazing',\n",
    "    'This was terrible, the battery died within a day',\n",
    "    'Decent value for the price',\n",
    "    'Not what I expected, very disappointed'\n",
    "]\n",
    "preds = predict_sentiment(examples)\n",
    "for p in preds:\n",
    "    print(p)"
   ]
  },
  {
   "cell_type": "markdown",
   "id": "b51925bb",
   "metadata": {},
   "source": [
    "## 9) Analysis of findings\n",
    "\n",
    "- The dataset used is a labelled set of short Amazon review snippets (binary labels).\n",
    "- The TF-IDF + Logistic Regression pipeline is straightforward and fast. It often performs well when sentiment is strongly correlated with words (positive and negative adjectives).\n",
    "- Limitations: short texts can be ambiguous; sarcasm and context are not captured by a simple bag-of-words TF-IDF approach. Also, neutral sentiment is not modelled because the dataset is binary.\n",
    "- Recommended improvements: more robust preprocessing (lemmatization), expanding n-grams carefully, regularized hyperparameter search (GridSearchCV), and try modern transformer-based models for best performance on nuanced text."
   ]
  },
  {
   "cell_type": "markdown",
   "id": "230c3033",
   "metadata": {},
   "source": [
    "## 10) References\n",
    "\n",
    "- Manning, C. D., Raghavan, P., & Schütze, H. (2008). Introduction to Information Retrieval.\n",
    "- Jurafsky, D., & Martin, J. H. (2021). Speech and Language Processing (3rd ed.).\n",
    "- scikit-learn documentation: https://scikit-learn.org/stable/\n",
    "- NLTK documentation: https://www.nltk.org/"
   ]
  },
  {
   "cell_type": "markdown",
   "id": "1e4996d5",
   "metadata": {},
   "source": [
    "### Notes and next steps\n",
    "\n",
    "- To reproduce the notebook outputs, run all cells in order. If you run on a different environment, ensure the required packages are installed (pandas, numpy, scikit-learn, nltk, bs4, seaborn, matplotlib, joblib).\n",
    "- If the dataset contains additional columns or an unexpected schema, adjust the `detect_label_column` function accordingly."
   ]
  }
 ],
 "metadata": {
  "kernelspec": {
   "display_name": "base",
   "language": "python",
   "name": "python3"
  },
  "language_info": {
   "codemirror_mode": {
    "name": "ipython",
    "version": 3
   },
   "file_extension": ".py",
   "mimetype": "text/x-python",
   "name": "python",
   "nbconvert_exporter": "python",
   "pygments_lexer": "ipython3",
   "version": "3.11.5"
  }
 },
 "nbformat": 4,
 "nbformat_minor": 5
}
